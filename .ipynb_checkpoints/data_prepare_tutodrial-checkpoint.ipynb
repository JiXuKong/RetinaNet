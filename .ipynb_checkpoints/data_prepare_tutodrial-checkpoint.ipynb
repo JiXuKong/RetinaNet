{
 "cells": [
  {
   "cell_type": "markdown",
   "metadata": {},
   "source": [
    "# yolo标注转xml标注\n",
    "yolo 标注格式：[x_ctr, y_ctr, normalized_w, normalized_w]、文件格式：'.txt'\n",
    "\n",
    "xml  标注格式：x_up_left, y_up_left, x_up_left, y_up_left、文件格式：'.xml'\n",
    "\n",
    "图像路径：x.jpg, xx.jpg,...\n",
    "\n",
    "yolo标签路径：x.txt, xx.txt\n",
    "\n",
    "图像文件和yolo标签文件一一对应"
   ]
  },
  {
   "cell_type": "code",
   "execution_count": null,
   "metadata": {},
   "outputs": [],
   "source": [
    "from data_pre import txt_xml\n",
    "\n",
    "save_xml_path = r'F:\\bolt1\\xml'#保存xml的路径\n",
    "save_jpg = r'F:\\bolt1\\image'#图像的路径\n",
    "save_txt = r'F:\\bolt1\\txt'#txt标签的路径\n",
    "class_name = ['bolt']#标签的名字\n",
    "i = 0\n",
    "for fil in os.listdir(save_jpg):\n",
    "    img_path = os.path.join(save_jpg, fil)\n",
    "#     print(i)\n",
    "    txt_path = os.path.join(save_txt, fil.split('.')[0]+'.txt')\n",
    "    txt_xml(txt_path, img_path, save_xml_path, class_name)\n",
    "    i = i+1\n",
    "    \n",
    "#去除没有标签的图像\n",
    "xml_name = []\n",
    "for fil in os.listdir(save_xml_path):\n",
    "    xml_name.append(fil.split('.')[0])\n",
    "xml_name = set(xml_name)\n",
    "for fil in os.listdir(save_jpg):\n",
    "    if fil.split('.')[0] not in xml_name:\n",
    "        os.remove(os.path.join(save_jpg, fil))"
   ]
  },
  {
   "cell_type": "markdown",
   "metadata": {},
   "source": [
    "# 裁剪图像和对应的标签\n",
    "图像格式：'.jpg'\n",
    "\n",
    "标签格式：'.xml'\n",
    "\n",
    "原始图像分辨率约为[1200，2000]范围，因此将图片裁剪到[600, 1000]\n",
    "\n",
    "path:混合后的图像文件和xml标注文件路径\n",
    "\n",
    "cropimg_path：剪裁后的图像路径\n",
    "\n",
    "cropxml_path：剪裁后的xml路径"
   ]
  },
  {
   "cell_type": "code",
   "execution_count": 6,
   "metadata": {},
   "outputs": [
    {
     "data": {
      "text/plain": [
       "True"
      ]
     },
     "execution_count": 6,
     "metadata": {},
     "output_type": "execute_result"
    }
   ],
   "source": [
    "crop_image_label import crop_\n",
    "\n",
    "path = r'F:\\bolt1\\all'\n",
    "cropimg_path = r'F:\\bolt1\\cut\\img'\n",
    "cropxml_path = r'F:\\bolt1\\cut\\xml'\n",
    "n = 2 #剪裁成4张\n",
    "cover_pix = 50 #图像互相覆盖的像素值\n",
    "crop_(path, n, cover_pix, cropimg_path, cropxml_path)"
   ]
  },
  {
   "cell_type": "markdown",
   "metadata": {},
   "source": [
    "# 划分数据集\n",
    "\n",
    "#我们用30张图片（分辨率[1200, 2000]）进行训练，图像经过剪裁(1张剪裁成4张)后，30图片变成120张，由于某些区域可能没有目标，因此只选择89张图片进行训练"
   ]
  },
  {
   "cell_type": "code",
   "execution_count": null,
   "metadata": {},
   "outputs": [],
   "source": [
    "import os\n",
    "import numpy as np\n",
    "all_imag_path = r''\n",
    "all_xml_path = r''\n",
    "#存放测试图片、标签的地址\n",
    "test_xml = r''\n",
    "test_img = r''\n",
    "#存放训练图片、标签的地址\n",
    "train_xml = r''\n",
    "train_img = r''\n",
    "\n",
    "img_name = []\n",
    "for fil in os.listdir(all_imag_path):\n",
    "    img_name.append(fil.split('.')[0])\n",
    "np.random.shuffle(img_name)\n",
    "\n",
    "for i in range(len(img_name)):\n",
    "    ori_img_path = os.path.join(all_imag_path, img_name[i] + '.jpg')\n",
    "    ori_xml_path = os.path.join(all_xml_path, img_name[i] + '.xml')\n",
    "    if i <89:\n",
    "        new_img_path = os.path.join(test_img, img_name[i] + '.jpg')\n",
    "        new_xml_path = os.path.join(test_xml, img_name[i] + '.xml')\n",
    "    else:\n",
    "        new_img_path = os.path.join(train_img, img_name[i] + '.jpg')\n",
    "        new_xml_path = os.path.join(train_xml, img_name[i] + '.xml')\n",
    "    \n",
    "    os.rename(ori_img_path, new_img_path)\n",
    "    os.rename(ori_xml_path, new_xml_path)"
   ]
  },
  {
   "cell_type": "markdown",
   "metadata": {},
   "source": [
    "# 制作txt，获取训练/测试 图片名， 需要分别运行两次（测试和训练）"
   ]
  },
  {
   "cell_type": "code",
   "execution_count": 2,
   "metadata": {},
   "outputs": [],
   "source": [
    "import os\n",
    "import numpy as np\n",
    "\n",
    "path = r'F:\\bolt1\\cut\\train\\xml'\n",
    "path1 = r'F:\\bolt1\\cut\\train\\train.txt'\n",
    "name = []\n",
    "for fil in os.listdir(path):\n",
    "    name.append(fil.split('.')[0])\n",
    "with open(path1,'a') as f1:\n",
    "    for i in range(len(name)):\n",
    "        f1.write(name[i] + '\\n')\n",
    "f1.close()"
   ]
  },
  {
   "cell_type": "markdown",
   "metadata": {},
   "source": [
    "# 可视化结果"
   ]
  },
  {
   "cell_type": "code",
   "execution_count": 3,
   "metadata": {},
   "outputs": [],
   "source": [
    "from part.pascal_voc import pascal_voc\n",
    "import numpy as np\n",
    "import retinanet_config as cfg\n",
    "import cv2"
   ]
  },
  {
   "cell_type": "markdown",
   "metadata": {},
   "source": [
    "# Get data class"
   ]
  },
  {
   "cell_type": "code",
   "execution_count": 4,
   "metadata": {},
   "outputs": [
    {
     "name": "stdout",
     "output_type": "stream",
     "text": [
      "Loading gt_labels from: ./pkl\\pascal_train_gt_labels.pkl\n",
      "Appending flipped example...\n"
     ]
    }
   ],
   "source": [
    "data = pascal_voc(phase='train', flipped=True, img_path = cfg.train_img_path,\\\n",
    "                  label_path=cfg.train_label_path, img_txt=cfg.train_img_txt, is_training=True)"
   ]
  },
  {
   "cell_type": "markdown",
   "metadata": {},
   "source": [
    "# Visualize data"
   ]
  },
  {
   "cell_type": "code",
   "execution_count": 11,
   "metadata": {},
   "outputs": [
    {
     "name": "stdout",
     "output_type": "stream",
     "text": [
      "F:\\bolt1\\cut\\train\\img\\180.jpg\n",
      "[[  1. 591. 364. 640. 457.]\n",
      " [  1. 402. 467. 468. 556.]\n",
      " [  1. 283. 315. 348. 414.]\n",
      " [  1. 138. 341. 201. 436.]\n",
      " [  1. 154. 486. 212. 564.]\n",
      " [  1. 134. 422. 184. 476.]]\n",
      "(4, 640, 640, 3)\n"
     ]
    }
   ],
   "source": [
    "# imnm, flipped, label = data.get()\n",
    "img, label, imnm, num_boxes = data.get()\n",
    "img=img.astype(np.uint8, copy=False)\n",
    "print(imnm[0])\n",
    "# img = cv2.imread(imnm)\n",
    "# print(np.where(label[0][:,4] !=0)[0])\n",
    "# print(np.where(label[0][:,4] !=0)[0].shape[0])\n",
    "# print(label)\n",
    "num = np.where(label[0][:,4] !=0)[0].shape[0]\n",
    "label = label[0][:num]\n",
    "print(label)\n",
    "print(img.shape)\n",
    "img = img[0]\n",
    "for i in range(label.shape[0]):\n",
    "    x1 = label[i][1]\n",
    "    y1 = label[i][2]\n",
    "    x2 = label[i][3]\n",
    "    y2 = label[i][4]\n",
    "    cv2.rectangle(img, (int(x1),int(y1)),(int(x2),int(y2)), (255,255,0), 2)\n",
    "cv2.imshow('img', img)\n",
    "cv2.waitKey(0)\n",
    "cv2.destroyAllWindows()"
   ]
  },
  {
   "cell_type": "code",
   "execution_count": null,
   "metadata": {},
   "outputs": [],
   "source": []
  }
 ],
 "metadata": {
  "kernelspec": {
   "display_name": "Python 3",
   "language": "python",
   "name": "python3"
  },
  "language_info": {
   "codemirror_mode": {
    "name": "ipython",
    "version": 3
   },
   "file_extension": ".py",
   "mimetype": "text/x-python",
   "name": "python",
   "nbconvert_exporter": "python",
   "pygments_lexer": "ipython3",
   "version": "3.6.9"
  }
 },
 "nbformat": 4,
 "nbformat_minor": 2
}
